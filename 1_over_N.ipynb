{
 "cells": [
  {
   "cell_type": "code",
   "execution_count": 1,
   "id": "5008acbd-b508-454c-abaf-202ca736cdfb",
   "metadata": {},
   "outputs": [],
   "source": [
    "# Import packages\n",
    "import numpy as np\n",
    "import pandas as pd\n",
    "import matplotlib.pyplot as plt\n"
   ]
  },
  {
   "cell_type": "code",
   "execution_count": 2,
   "id": "63589605-a9c7-428d-ba9d-93479a29fc26",
   "metadata": {},
   "outputs": [],
   "source": [
    "# Read data into pandas\n",
    "japan = pd.read_excel(\"./data/Price History_EWJ_Japan_Equity.xlsx\")\n",
    "t_bills_7_10 = pd.read_excel(\"./data/Price History_7-10_US_TBills.xlsx\")\n",
    "t_bills_20 = pd.read_excel(\"./data/Price History_20+_US_TBills.xlsx\")\n",
    "apac_x_japan = pd.read_excel(\"./data/Price History_EPP_APACxJapan_Equity.xlsx\")\n",
    "europe = pd.read_excel(\"./data/Price History_IEV_Europe_Equity.xlsx\")\n",
    "latam = pd.read_excel(\"./data/Price History_ILF_LatAm_Equity.xlsx\")\n",
    "us = pd.read_excel(\"./data/Price History_IVV_US_Equity.xlsx\")\n",
    "gold = pd.read_excel(\"./data/Price History_IAU_Gold_Trust.xlsx\")"
   ]
  },
  {
   "cell_type": "code",
   "execution_count": 3,
   "id": "18c1bd0b-4047-4479-8160-6417b48059a3",
   "metadata": {},
   "outputs": [],
   "source": [
    "def preprocess_and_rename(df, name):\n",
    "    df['Exchange Date'] = pd.to_datetime(df['Exchange Date'])\n",
    "    df.set_index('Exchange Date', inplace=True)\n",
    "    df.rename(columns={'%Chg':f'Return {name}'}, inplace=True)\n",
    "    return df[[f'Return {name}']]\n",
    "\n",
    "# Preprocess all datasets and rename columns\n",
    "japan = preprocess_and_rename(japan, 'Japan')\n",
    "t_bills_7_10 = preprocess_and_rename(t_bills_7_10, 'T-Bills_7_10')\n",
    "t_bills_20 = preprocess_and_rename(t_bills_20, 'T-Bills_20')\n",
    "apac_x_japan = preprocess_and_rename(apac_x_japan, 'APACxJapan')\n",
    "europe = preprocess_and_rename(europe, 'Europe')\n",
    "latam = preprocess_and_rename(latam, 'LatAm')\n",
    "us = preprocess_and_rename(us, 'US')\n",
    "gold = preprocess_and_rename(gold, 'Gold')"
   ]
  },
  {
   "cell_type": "code",
   "execution_count": 4,
   "id": "4fde3178-c36f-4ae9-80ec-55f48bc3b94d",
   "metadata": {},
   "outputs": [
    {
     "data": {
      "text/html": [
       "<div>\n",
       "<style scoped>\n",
       "    .dataframe tbody tr th:only-of-type {\n",
       "        vertical-align: middle;\n",
       "    }\n",
       "\n",
       "    .dataframe tbody tr th {\n",
       "        vertical-align: top;\n",
       "    }\n",
       "\n",
       "    .dataframe thead th {\n",
       "        text-align: right;\n",
       "    }\n",
       "</style>\n",
       "<table border=\"1\" class=\"dataframe\">\n",
       "  <thead>\n",
       "    <tr style=\"text-align: right;\">\n",
       "      <th></th>\n",
       "      <th>Return US</th>\n",
       "    </tr>\n",
       "    <tr>\n",
       "      <th>Exchange Date</th>\n",
       "      <th></th>\n",
       "    </tr>\n",
       "  </thead>\n",
       "  <tbody>\n",
       "    <tr>\n",
       "      <th>2024-12-13</th>\n",
       "      <td>-0.000181</td>\n",
       "    </tr>\n",
       "    <tr>\n",
       "      <th>2024-12-12</th>\n",
       "      <td>-0.005306</td>\n",
       "    </tr>\n",
       "    <tr>\n",
       "      <th>2024-12-11</th>\n",
       "      <td>0.007707</td>\n",
       "    </tr>\n",
       "    <tr>\n",
       "      <th>2024-12-10</th>\n",
       "      <td>-0.002896</td>\n",
       "    </tr>\n",
       "    <tr>\n",
       "      <th>2024-12-09</th>\n",
       "      <td>-0.005157</td>\n",
       "    </tr>\n",
       "    <tr>\n",
       "      <th>...</th>\n",
       "      <td>...</td>\n",
       "    </tr>\n",
       "    <tr>\n",
       "      <th>2005-01-07</th>\n",
       "      <td>-0.001852</td>\n",
       "    </tr>\n",
       "    <tr>\n",
       "      <th>2005-01-06</th>\n",
       "      <td>0.004058</td>\n",
       "    </tr>\n",
       "    <tr>\n",
       "      <th>2005-01-05</th>\n",
       "      <td>-0.006050</td>\n",
       "    </tr>\n",
       "    <tr>\n",
       "      <th>2005-01-04</th>\n",
       "      <td>-0.012037</td>\n",
       "    </tr>\n",
       "    <tr>\n",
       "      <th>2005-01-03</th>\n",
       "      <td>NaN</td>\n",
       "    </tr>\n",
       "  </tbody>\n",
       "</table>\n",
       "<p>5022 rows × 1 columns</p>\n",
       "</div>"
      ],
      "text/plain": [
       "               Return US\n",
       "Exchange Date           \n",
       "2024-12-13     -0.000181\n",
       "2024-12-12     -0.005306\n",
       "2024-12-11      0.007707\n",
       "2024-12-10     -0.002896\n",
       "2024-12-09     -0.005157\n",
       "...                  ...\n",
       "2005-01-07     -0.001852\n",
       "2005-01-06      0.004058\n",
       "2005-01-05     -0.006050\n",
       "2005-01-04     -0.012037\n",
       "2005-01-03           NaN\n",
       "\n",
       "[5022 rows x 1 columns]"
      ]
     },
     "execution_count": 4,
     "metadata": {},
     "output_type": "execute_result"
    }
   ],
   "source": [
    "us"
   ]
  },
  {
   "cell_type": "code",
   "execution_count": 5,
   "id": "ba8b1dc4-16a6-4b69-8a4a-439f149533eb",
   "metadata": {},
   "outputs": [
    {
     "ename": "KeyError",
     "evalue": "'Gold'",
     "output_type": "error",
     "traceback": [
      "\u001b[0;31m---------------------------------------------------------------------------\u001b[0m",
      "\u001b[0;31mKeyError\u001b[0m                                  Traceback (most recent call last)",
      "File \u001b[0;32m/opt/anaconda3/lib/python3.11/site-packages/pandas/core/indexes/base.py:3791\u001b[0m, in \u001b[0;36mIndex.get_loc\u001b[0;34m(self, key)\u001b[0m\n\u001b[1;32m   3790\u001b[0m \u001b[38;5;28;01mtry\u001b[39;00m:\n\u001b[0;32m-> 3791\u001b[0m     \u001b[38;5;28;01mreturn\u001b[39;00m \u001b[38;5;28mself\u001b[39m\u001b[38;5;241m.\u001b[39m_engine\u001b[38;5;241m.\u001b[39mget_loc(casted_key)\n\u001b[1;32m   3792\u001b[0m \u001b[38;5;28;01mexcept\u001b[39;00m \u001b[38;5;167;01mKeyError\u001b[39;00m \u001b[38;5;28;01mas\u001b[39;00m err:\n",
      "File \u001b[0;32mindex.pyx:152\u001b[0m, in \u001b[0;36mpandas._libs.index.IndexEngine.get_loc\u001b[0;34m()\u001b[0m\n",
      "File \u001b[0;32mindex.pyx:181\u001b[0m, in \u001b[0;36mpandas._libs.index.IndexEngine.get_loc\u001b[0;34m()\u001b[0m\n",
      "File \u001b[0;32mpandas/_libs/hashtable_class_helper.pxi:7080\u001b[0m, in \u001b[0;36mpandas._libs.hashtable.PyObjectHashTable.get_item\u001b[0;34m()\u001b[0m\n",
      "File \u001b[0;32mpandas/_libs/hashtable_class_helper.pxi:7088\u001b[0m, in \u001b[0;36mpandas._libs.hashtable.PyObjectHashTable.get_item\u001b[0;34m()\u001b[0m\n",
      "\u001b[0;31mKeyError\u001b[0m: 'Gold'",
      "\nThe above exception was the direct cause of the following exception:\n",
      "\u001b[0;31mKeyError\u001b[0m                                  Traceback (most recent call last)",
      "Cell \u001b[0;32mIn[5], line 5\u001b[0m\n\u001b[1;32m      1\u001b[0m \u001b[38;5;66;03m# Plot price data to check data read\u001b[39;00m\n\u001b[1;32m      2\u001b[0m \n\u001b[1;32m      3\u001b[0m \u001b[38;5;66;03m# Create the plot\u001b[39;00m\n\u001b[1;32m      4\u001b[0m plt\u001b[38;5;241m.\u001b[39mfigure(figsize\u001b[38;5;241m=\u001b[39m(\u001b[38;5;241m10\u001b[39m, \u001b[38;5;241m6\u001b[39m))\n\u001b[0;32m----> 5\u001b[0m plt\u001b[38;5;241m.\u001b[39mplot(gold[\u001b[38;5;124m'\u001b[39m\u001b[38;5;124mGold\u001b[39m\u001b[38;5;124m'\u001b[39m], marker\u001b[38;5;241m=\u001b[39m\u001b[38;5;124m'\u001b[39m\u001b[38;5;124m'\u001b[39m, label\u001b[38;5;241m=\u001b[39m\u001b[38;5;124m'\u001b[39m\u001b[38;5;124mGold\u001b[39m\u001b[38;5;124m'\u001b[39m)\n\u001b[1;32m      6\u001b[0m plt\u001b[38;5;241m.\u001b[39mplot(us[\u001b[38;5;124m'\u001b[39m\u001b[38;5;124mUS\u001b[39m\u001b[38;5;124m'\u001b[39m], marker\u001b[38;5;241m=\u001b[39m\u001b[38;5;124m'\u001b[39m\u001b[38;5;124m'\u001b[39m, label\u001b[38;5;241m=\u001b[39m\u001b[38;5;124m'\u001b[39m\u001b[38;5;124mUSA\u001b[39m\u001b[38;5;124m'\u001b[39m)\n\u001b[1;32m      7\u001b[0m plt\u001b[38;5;241m.\u001b[39mplot(europe[\u001b[38;5;124m'\u001b[39m\u001b[38;5;124mEurope\u001b[39m\u001b[38;5;124m'\u001b[39m], marker\u001b[38;5;241m=\u001b[39m\u001b[38;5;124m'\u001b[39m\u001b[38;5;124m'\u001b[39m, label\u001b[38;5;241m=\u001b[39m\u001b[38;5;124m'\u001b[39m\u001b[38;5;124mEurope\u001b[39m\u001b[38;5;124m'\u001b[39m)\n",
      "File \u001b[0;32m/opt/anaconda3/lib/python3.11/site-packages/pandas/core/frame.py:3893\u001b[0m, in \u001b[0;36mDataFrame.__getitem__\u001b[0;34m(self, key)\u001b[0m\n\u001b[1;32m   3891\u001b[0m \u001b[38;5;28;01mif\u001b[39;00m \u001b[38;5;28mself\u001b[39m\u001b[38;5;241m.\u001b[39mcolumns\u001b[38;5;241m.\u001b[39mnlevels \u001b[38;5;241m>\u001b[39m \u001b[38;5;241m1\u001b[39m:\n\u001b[1;32m   3892\u001b[0m     \u001b[38;5;28;01mreturn\u001b[39;00m \u001b[38;5;28mself\u001b[39m\u001b[38;5;241m.\u001b[39m_getitem_multilevel(key)\n\u001b[0;32m-> 3893\u001b[0m indexer \u001b[38;5;241m=\u001b[39m \u001b[38;5;28mself\u001b[39m\u001b[38;5;241m.\u001b[39mcolumns\u001b[38;5;241m.\u001b[39mget_loc(key)\n\u001b[1;32m   3894\u001b[0m \u001b[38;5;28;01mif\u001b[39;00m is_integer(indexer):\n\u001b[1;32m   3895\u001b[0m     indexer \u001b[38;5;241m=\u001b[39m [indexer]\n",
      "File \u001b[0;32m/opt/anaconda3/lib/python3.11/site-packages/pandas/core/indexes/base.py:3798\u001b[0m, in \u001b[0;36mIndex.get_loc\u001b[0;34m(self, key)\u001b[0m\n\u001b[1;32m   3793\u001b[0m     \u001b[38;5;28;01mif\u001b[39;00m \u001b[38;5;28misinstance\u001b[39m(casted_key, \u001b[38;5;28mslice\u001b[39m) \u001b[38;5;129;01mor\u001b[39;00m (\n\u001b[1;32m   3794\u001b[0m         \u001b[38;5;28misinstance\u001b[39m(casted_key, abc\u001b[38;5;241m.\u001b[39mIterable)\n\u001b[1;32m   3795\u001b[0m         \u001b[38;5;129;01mand\u001b[39;00m \u001b[38;5;28many\u001b[39m(\u001b[38;5;28misinstance\u001b[39m(x, \u001b[38;5;28mslice\u001b[39m) \u001b[38;5;28;01mfor\u001b[39;00m x \u001b[38;5;129;01min\u001b[39;00m casted_key)\n\u001b[1;32m   3796\u001b[0m     ):\n\u001b[1;32m   3797\u001b[0m         \u001b[38;5;28;01mraise\u001b[39;00m InvalidIndexError(key)\n\u001b[0;32m-> 3798\u001b[0m     \u001b[38;5;28;01mraise\u001b[39;00m \u001b[38;5;167;01mKeyError\u001b[39;00m(key) \u001b[38;5;28;01mfrom\u001b[39;00m \u001b[38;5;21;01merr\u001b[39;00m\n\u001b[1;32m   3799\u001b[0m \u001b[38;5;28;01mexcept\u001b[39;00m \u001b[38;5;167;01mTypeError\u001b[39;00m:\n\u001b[1;32m   3800\u001b[0m     \u001b[38;5;66;03m# If we have a listlike key, _check_indexing_error will raise\u001b[39;00m\n\u001b[1;32m   3801\u001b[0m     \u001b[38;5;66;03m#  InvalidIndexError. Otherwise we fall through and re-raise\u001b[39;00m\n\u001b[1;32m   3802\u001b[0m     \u001b[38;5;66;03m#  the TypeError.\u001b[39;00m\n\u001b[1;32m   3803\u001b[0m     \u001b[38;5;28mself\u001b[39m\u001b[38;5;241m.\u001b[39m_check_indexing_error(key)\n",
      "\u001b[0;31mKeyError\u001b[0m: 'Gold'"
     ]
    },
    {
     "data": {
      "text/plain": [
       "<Figure size 1000x600 with 0 Axes>"
      ]
     },
     "metadata": {},
     "output_type": "display_data"
    }
   ],
   "source": [
    "# Plot price data to check data read\n",
    "\n",
    "# Create the plot\n",
    "plt.figure(figsize=(10, 6))\n",
    "plt.plot(gold['Gold'], marker='', label='Gold')\n",
    "plt.plot(us['US'], marker='', label='USA')\n",
    "plt.plot(europe['Europe'], marker='', label='Europe')\n",
    "plt.plot(apac_x_japan['APACxJapan'], marker='', label='APAC ex. Japan')\n",
    "plt.plot(japan['Japan'], marker='', label='Japan')\n",
    "plt.plot(latam['LatAm'], marker='', label='LatAm')\n",
    "plt.plot(us['US'], marker='', label='USA')\n",
    "\n",
    "\n",
    "\n",
    "# Customize the plot\n",
    "plt.title(\"Close Price by Exchange Date\", fontsize=16)\n",
    "plt.xlabel(\"Exchange Date\", fontsize=12)\n",
    "plt.ylabel(\"Close Price (USD)\", fontsize=12)\n",
    "plt.grid(True)\n",
    "plt.legend()\n",
    "plt.xticks(rotation=45)  # Rotate date labels for better readability\n",
    "\n",
    "# Show the plot\n",
    "plt.tight_layout()  # Adjust layout for better appearance\n",
    "plt.show()"
   ]
  },
  {
   "cell_type": "code",
   "execution_count": 6,
   "id": "07b4f753-3e99-4742-acba-032da04b3753",
   "metadata": {},
   "outputs": [],
   "source": [
    "# Merge all datasets on 'Exchange Date'\n",
    "returns = japan.join([t_bills_7_10, t_bills_20, apac_x_japan, europe, latam, us, gold], how='inner')\n",
    "\n",
    "# Rename the columns for clarity\n",
    "returns.columns = ['Japan', 'T-Bills_7_10', 'T-Bills_20', \n",
    "                'APACxJapan','Europe','LatAm', 'US', 'Gold']\n",
    "returns = returns.dropna()\n",
    "returns = returns.sort_values(by='Exchange Date', ascending=True)"
   ]
  },
  {
   "cell_type": "code",
   "execution_count": 7,
   "id": "4fc35f43-59b1-44d8-9355-58f6384abbd4",
   "metadata": {},
   "outputs": [
    {
     "data": {
      "text/html": [
       "<div>\n",
       "<style scoped>\n",
       "    .dataframe tbody tr th:only-of-type {\n",
       "        vertical-align: middle;\n",
       "    }\n",
       "\n",
       "    .dataframe tbody tr th {\n",
       "        vertical-align: top;\n",
       "    }\n",
       "\n",
       "    .dataframe thead th {\n",
       "        text-align: right;\n",
       "    }\n",
       "</style>\n",
       "<table border=\"1\" class=\"dataframe\">\n",
       "  <thead>\n",
       "    <tr style=\"text-align: right;\">\n",
       "      <th></th>\n",
       "      <th>Japan</th>\n",
       "      <th>T-Bills_7_10</th>\n",
       "      <th>T-Bills_20</th>\n",
       "      <th>APACxJapan</th>\n",
       "      <th>Europe</th>\n",
       "      <th>LatAm</th>\n",
       "      <th>US</th>\n",
       "      <th>Gold</th>\n",
       "    </tr>\n",
       "    <tr>\n",
       "      <th>Exchange Date</th>\n",
       "      <th></th>\n",
       "      <th></th>\n",
       "      <th></th>\n",
       "      <th></th>\n",
       "      <th></th>\n",
       "      <th></th>\n",
       "      <th></th>\n",
       "      <th></th>\n",
       "    </tr>\n",
       "  </thead>\n",
       "  <tbody>\n",
       "    <tr>\n",
       "      <th>2005-01-31</th>\n",
       "      <td>0.000000</td>\n",
       "      <td>0.000350</td>\n",
       "      <td>0.002843</td>\n",
       "      <td>0.002793</td>\n",
       "      <td>0.004750</td>\n",
       "      <td>0.017648</td>\n",
       "      <td>0.008956</td>\n",
       "      <td>-0.009838</td>\n",
       "    </tr>\n",
       "    <tr>\n",
       "      <th>2005-02-01</th>\n",
       "      <td>0.005666</td>\n",
       "      <td>-0.003734</td>\n",
       "      <td>-0.005343</td>\n",
       "      <td>0.008802</td>\n",
       "      <td>0.010265</td>\n",
       "      <td>0.013544</td>\n",
       "      <td>0.006425</td>\n",
       "      <td>-0.003549</td>\n",
       "    </tr>\n",
       "    <tr>\n",
       "      <th>2005-02-02</th>\n",
       "      <td>0.003756</td>\n",
       "      <td>0.000117</td>\n",
       "      <td>0.002302</td>\n",
       "      <td>0.000884</td>\n",
       "      <td>-0.000668</td>\n",
       "      <td>0.009117</td>\n",
       "      <td>0.003192</td>\n",
       "      <td>0.002612</td>\n",
       "    </tr>\n",
       "    <tr>\n",
       "      <th>2005-02-03</th>\n",
       "      <td>-0.014967</td>\n",
       "      <td>-0.001757</td>\n",
       "      <td>-0.000875</td>\n",
       "      <td>-0.008056</td>\n",
       "      <td>-0.002676</td>\n",
       "      <td>0.010767</td>\n",
       "      <td>-0.001758</td>\n",
       "      <td>-0.012077</td>\n",
       "    </tr>\n",
       "    <tr>\n",
       "      <th>2005-02-04</th>\n",
       "      <td>0.004748</td>\n",
       "      <td>0.005280</td>\n",
       "      <td>0.014231</td>\n",
       "      <td>0.007231</td>\n",
       "      <td>0.003622</td>\n",
       "      <td>0.017877</td>\n",
       "      <td>0.009646</td>\n",
       "      <td>-0.005273</td>\n",
       "    </tr>\n",
       "    <tr>\n",
       "      <th>...</th>\n",
       "      <td>...</td>\n",
       "      <td>...</td>\n",
       "      <td>...</td>\n",
       "      <td>...</td>\n",
       "      <td>...</td>\n",
       "      <td>...</td>\n",
       "      <td>...</td>\n",
       "      <td>...</td>\n",
       "    </tr>\n",
       "    <tr>\n",
       "      <th>2024-12-09</th>\n",
       "      <td>-0.008723</td>\n",
       "      <td>-0.003464</td>\n",
       "      <td>-0.009217</td>\n",
       "      <td>0.018423</td>\n",
       "      <td>-0.001273</td>\n",
       "      <td>0.012993</td>\n",
       "      <td>-0.005157</td>\n",
       "      <td>0.009863</td>\n",
       "    </tr>\n",
       "    <tr>\n",
       "      <th>2024-12-10</th>\n",
       "      <td>-0.005393</td>\n",
       "      <td>-0.001791</td>\n",
       "      <td>-0.004705</td>\n",
       "      <td>-0.016197</td>\n",
       "      <td>-0.008379</td>\n",
       "      <td>0.000855</td>\n",
       "      <td>-0.002896</td>\n",
       "      <td>0.013155</td>\n",
       "    </tr>\n",
       "    <tr>\n",
       "      <th>2024-12-11</th>\n",
       "      <td>0.014127</td>\n",
       "      <td>-0.002955</td>\n",
       "      <td>-0.009454</td>\n",
       "      <td>0.000000</td>\n",
       "      <td>0.004041</td>\n",
       "      <td>0.015805</td>\n",
       "      <td>0.007707</td>\n",
       "      <td>0.009247</td>\n",
       "    </tr>\n",
       "    <tr>\n",
       "      <th>2024-12-12</th>\n",
       "      <td>-0.009849</td>\n",
       "      <td>-0.003810</td>\n",
       "      <td>-0.012148</td>\n",
       "      <td>-0.012187</td>\n",
       "      <td>-0.008050</td>\n",
       "      <td>-0.018503</td>\n",
       "      <td>-0.005306</td>\n",
       "      <td>-0.014230</td>\n",
       "    </tr>\n",
       "    <tr>\n",
       "      <th>2024-12-13</th>\n",
       "      <td>-0.011795</td>\n",
       "      <td>-0.004674</td>\n",
       "      <td>-0.010211</td>\n",
       "      <td>-0.003680</td>\n",
       "      <td>0.000738</td>\n",
       "      <td>-0.005998</td>\n",
       "      <td>-0.000181</td>\n",
       "      <td>-0.011667</td>\n",
       "    </tr>\n",
       "  </tbody>\n",
       "</table>\n",
       "<p>5003 rows × 8 columns</p>\n",
       "</div>"
      ],
      "text/plain": [
       "                  Japan  T-Bills_7_10  T-Bills_20  APACxJapan    Europe  \\\n",
       "Exchange Date                                                             \n",
       "2005-01-31     0.000000      0.000350    0.002843    0.002793  0.004750   \n",
       "2005-02-01     0.005666     -0.003734   -0.005343    0.008802  0.010265   \n",
       "2005-02-02     0.003756      0.000117    0.002302    0.000884 -0.000668   \n",
       "2005-02-03    -0.014967     -0.001757   -0.000875   -0.008056 -0.002676   \n",
       "2005-02-04     0.004748      0.005280    0.014231    0.007231  0.003622   \n",
       "...                 ...           ...         ...         ...       ...   \n",
       "2024-12-09    -0.008723     -0.003464   -0.009217    0.018423 -0.001273   \n",
       "2024-12-10    -0.005393     -0.001791   -0.004705   -0.016197 -0.008379   \n",
       "2024-12-11     0.014127     -0.002955   -0.009454    0.000000  0.004041   \n",
       "2024-12-12    -0.009849     -0.003810   -0.012148   -0.012187 -0.008050   \n",
       "2024-12-13    -0.011795     -0.004674   -0.010211   -0.003680  0.000738   \n",
       "\n",
       "                  LatAm        US      Gold  \n",
       "Exchange Date                                \n",
       "2005-01-31     0.017648  0.008956 -0.009838  \n",
       "2005-02-01     0.013544  0.006425 -0.003549  \n",
       "2005-02-02     0.009117  0.003192  0.002612  \n",
       "2005-02-03     0.010767 -0.001758 -0.012077  \n",
       "2005-02-04     0.017877  0.009646 -0.005273  \n",
       "...                 ...       ...       ...  \n",
       "2024-12-09     0.012993 -0.005157  0.009863  \n",
       "2024-12-10     0.000855 -0.002896  0.013155  \n",
       "2024-12-11     0.015805  0.007707  0.009247  \n",
       "2024-12-12    -0.018503 -0.005306 -0.014230  \n",
       "2024-12-13    -0.005998 -0.000181 -0.011667  \n",
       "\n",
       "[5003 rows x 8 columns]"
      ]
     },
     "execution_count": 7,
     "metadata": {},
     "output_type": "execute_result"
    }
   ],
   "source": [
    "returns"
   ]
  },
  {
   "cell_type": "code",
   "execution_count": 8,
   "id": "9aaea36d-afdf-4bce-8183-5bbc257e0b1a",
   "metadata": {},
   "outputs": [
    {
     "name": "stdout",
     "output_type": "stream",
     "text": [
      "Annualized Return: 0.055218085911388215\n",
      "Annualized Volatility: 0.10236539432329209\n",
      "Sharpe Ratio: 0.5394214155713359\n"
     ]
    }
   ],
   "source": [
    "weights = {\n",
    "    'Japan': 1/15,\n",
    "    'T-Bills_7_10': 1/6,\n",
    "    'T-Bills_20': 1/6,\n",
    "    'APACxJapan': 1/15,\n",
    "    'Europe': 1/15,\n",
    "    'LatAm': 1/15,\n",
    "    'US': 1/15,\n",
    "    'Gold': 1/3,\n",
    "}\n",
    "\n",
    "# Calculate the portfolio return for each day\n",
    "portfolio_return = (returns[list(weights.keys())] * list(weights.values())).sum(axis=1)\n",
    "\n",
    "# Calculate cumulative return\n",
    "cumulative_return = (1 + portfolio_return).cumprod() - 1\n",
    "\n",
    "# Calculate annualized return\n",
    "annualized_return = (1 + cumulative_return.iloc[-1]) ** (252 / len(portfolio_return)) - 1\n",
    "\n",
    "# Calculate annualized volatility (standard deviation of returns)\n",
    "annualized_volatility = portfolio_return.std() * (252 ** 0.5)\n",
    "\n",
    "# Sharpe ratio (assuming risk-free rate of 0%)\n",
    "sharpe_ratio = annualized_return / annualized_volatility\n",
    "\n",
    "# Print results\n",
    "print(f\"Annualized Return: {annualized_return}\")\n",
    "print(f\"Annualized Volatility: {annualized_volatility}\")\n",
    "print(f\"Sharpe Ratio: {sharpe_ratio}\")"
   ]
  },
  {
   "cell_type": "code",
   "execution_count": 9,
   "id": "174451d0-5b9b-4c39-8128-32c04eff1cc2",
   "metadata": {},
   "outputs": [
    {
     "data": {
      "text/plain": [
       "Exchange Date\n",
       "2005-01-31   -0.000471\n",
       "2005-02-01    0.000284\n",
       "2005-02-02    0.002359\n",
       "2005-02-03   -0.005577\n",
       "2005-02-04    0.004369\n",
       "                ...   \n",
       "2024-12-09    0.002258\n",
       "2024-12-10    0.001169\n",
       "2024-12-11    0.003793\n",
       "2024-12-12   -0.010996\n",
       "2024-12-13   -0.007764\n",
       "Length: 5003, dtype: float64"
      ]
     },
     "execution_count": 9,
     "metadata": {},
     "output_type": "execute_result"
    }
   ],
   "source": [
    "portfolio_return"
   ]
  },
  {
   "cell_type": "code",
   "execution_count": 10,
   "id": "cc037ac5-fbb4-4ba2-b75b-f8b4d87d3b6b",
   "metadata": {},
   "outputs": [
    {
     "data": {
      "text/plain": [
       "Exchange Date\n",
       "2005-01-31   -0.000471\n",
       "2005-02-01   -0.000187\n",
       "2005-02-02    0.002172\n",
       "2005-02-03   -0.003417\n",
       "2005-02-04    0.000937\n",
       "                ...   \n",
       "2024-12-09    1.947495\n",
       "2024-12-10    1.950940\n",
       "2024-12-11    1.962132\n",
       "2024-12-12    1.929560\n",
       "2024-12-13    1.906814\n",
       "Length: 5003, dtype: float64"
      ]
     },
     "execution_count": 10,
     "metadata": {},
     "output_type": "execute_result"
    }
   ],
   "source": [
    "cumulative_return"
   ]
  },
  {
   "cell_type": "code",
   "execution_count": 15,
   "id": "84766e3a-c776-4e04-8092-15497ef48b8a",
   "metadata": {},
   "outputs": [
    {
     "data": {
      "image/png": "[encoded data removed]",
      "text/plain": [
       "<Figure size 1000x600 with 1 Axes>"
      ]
     },
     "metadata": {},
     "output_type": "display_data"
    },
    {
     "name": "stdout",
     "output_type": "stream",
     "text": [
      "Final Portfolio Value: $2,906,814.33\n"
     ]
    }
   ],
   "source": [
    "# Initial investment\n",
    "initial_investment = 1000000  # 1 million\n",
    "\n",
    "# Calculate portfolio value over time\n",
    "portfolio_value = initial_investment * (1 + cumulative_return)\n",
    "\n",
    "# Plot the portfolio value\n",
    "plt.figure(figsize=(10, 6))\n",
    "plt.plot(portfolio_value, label='Portfolio Value', color='blue')\n",
    "plt.title('Portfolio Value Over Time')\n",
    "plt.xlabel('Date')\n",
    "plt.ylabel('Portfolio Value ($)')\n",
    "plt.legend()\n",
    "plt.grid(True)\n",
    "plt.xticks(rotation=45)\n",
    "plt.tight_layout()\n",
    "plt.show()\n",
    "\n",
    "print(f\"Final Portfolio Value: ${portfolio_value.iloc[-1]:,.2f}\")"
   ]
  },
  {
   "cell_type": "code",
   "execution_count": 16,
   "id": "9c11f155-0388-428f-a8c5-7d32cbe11f6a",
   "metadata": {},
   "outputs": [
    {
     "data": {
      "text/plain": [
       "Exchange Date\n",
       "2005-01-31    9.995292e+05\n",
       "2005-02-01    9.998134e+05\n",
       "2005-02-02    1.002172e+06\n",
       "2005-02-03    9.965831e+05\n",
       "2005-02-04    1.000937e+06\n",
       "                  ...     \n",
       "2024-12-09    2.947495e+06\n",
       "2024-12-10    2.950940e+06\n",
       "2024-12-11    2.962132e+06\n",
       "2024-12-12    2.929560e+06\n",
       "2024-12-13    2.906814e+06\n",
       "Length: 5003, dtype: float64"
      ]
     },
     "execution_count": 16,
     "metadata": {},
     "output_type": "execute_result"
    }
   ],
   "source": [
    "portfolio_value"
   ]
  },
  {
   "cell_type": "code",
   "execution_count": 20,
   "id": "3e0c493b-ed20-4157-8407-99884459e5dc",
   "metadata": {},
   "outputs": [
    {
     "data": {
      "image/png": "[encoded data removed]",
      "text/plain": [
       "<Figure size 1000x600 with 1 Axes>"
      ]
     },
     "metadata": {},
     "output_type": "display_data"
    },
    {
     "name": "stdout",
     "output_type": "stream",
     "text": [
      "Final Portfolio Value: $2,707,952.79\n"
     ]
    }
   ],
   "source": [
    "equity_columns = ['Japan', 'APACxJapan', 'Europe', 'LatAm', 'US']\n",
    "bond_columns = ['T-Bills_7_10', 'T-Bills_20']\n",
    "gold_columns = ['Gold']\n",
    "\n",
    "# Weights for equities and bonds\n",
    "equity_weight = 1/3\n",
    "bond_weight = 1/3\n",
    "gold_weight = 1/3\n",
    "\n",
    "# Resample the returns dataframe to monthly by calculating the cumulative returns for each month\n",
    "# Resample to monthly frequency, taking the cumulative product of daily returns for each month\n",
    "monthly_returns = returns.resample('M').apply(lambda x: (1 + x).prod() - 1)\n",
    "\n",
    "# Calculate monthly equity and bond returns\n",
    "monthly_equity_returns = monthly_returns[equity_columns].mean(axis=1)  # Average of equity returns for the month\n",
    "monthly_bond_returns = monthly_returns[bond_columns].mean(axis=1)  # Average of bond returns for the month\n",
    "monthly_gold_returns = monthly_returns[gold_columns].mean(axis=1)  # Average of bond returns for the month\n",
    "\n",
    "# Initialize the portfolio with 1 million\n",
    "initial_investment = 1_000_000\n",
    "portfolio_value = pd.Series(index=monthly_returns.index)\n",
    "\n",
    "# Set the initial portfolio value to 1 million\n",
    "portfolio_value.iloc[0] = initial_investment\n",
    "\n",
    "# Portfolio rebalancing loop for monthly rebalancing\n",
    "for i in range(1, len(monthly_returns)):\n",
    "    # Calculate the portfolio return for the current month (60% equity, 40% bond)\n",
    "    portfolio_return = (\n",
    "        (equity_weight * monthly_equity_returns.iloc[i]) + \n",
    "        (bond_weight * monthly_bond_returns.iloc[i]) + \n",
    "        (gold_weight * monthly_gold_returns.iloc[i])\n",
    "        )\n",
    "    \n",
    "    # Get the portfolio value at the previous month\n",
    "    prev_value = portfolio_value.iloc[i - 1]\n",
    "    \n",
    "    # Calculate the new portfolio value after returns for the month\n",
    "    new_value = prev_value * (1 + portfolio_return)\n",
    "    \n",
    "    # Rebalance the portfolio to 60/40 (equity/bond) at the end of the month\n",
    "    # We split the new value into equities and bonds\n",
    "    equity_value = new_value * equity_weight\n",
    "    bond_value = new_value * bond_weight\n",
    "    gold_value = new_value * gold_weight\n",
    "    \n",
    "    # Set the new portfolio value for the current month\n",
    "    portfolio_value.iloc[i] = equity_value + bond_value + gold_value\n",
    "\n",
    "# Plot the portfolio value with monthly rebalancing\n",
    "plt.figure(figsize=(10, 6))\n",
    "plt.plot(portfolio_value, label='Portfolio Value (1/3 Equities, 1/3 Bonds, 1/3 Gold)', color='blue')\n",
    "plt.title('Portfolio Value with Monthly Rebalancing (1/N Allocation)')\n",
    "plt.xlabel('Date')\n",
    "plt.ylabel('Portfolio Value ($)')\n",
    "plt.legend()\n",
    "plt.grid(True)\n",
    "plt.xticks(rotation=45)\n",
    "plt.tight_layout()\n",
    "plt.show()\n",
    "\n",
    "# Print the final portfolio value\n",
    "print(f\"Final Portfolio Value: ${portfolio_value.iloc[-1]:,.2f}\")"
   ]
  },
  {
   "cell_type": "code",
   "execution_count": 21,
   "id": "55c143ce-3a80-4133-a356-d86143dcaa38",
   "metadata": {},
   "outputs": [
    {
     "data": {
      "text/plain": [
       "Exchange Date\n",
       "2005-02-28    0.021886\n",
       "2005-03-31   -0.021253\n",
       "2005-04-30    0.009511\n",
       "2005-05-31   -0.000095\n",
       "2005-06-30    0.025185\n",
       "                ...   \n",
       "2024-08-31    0.022737\n",
       "2024-09-30    0.027209\n",
       "2024-10-31   -0.016249\n",
       "2024-11-30   -0.003525\n",
       "2024-12-31   -0.012877\n",
       "Freq: M, Length: 239, dtype: float64"
      ]
     },
     "execution_count": 21,
     "metadata": {},
     "output_type": "execute_result"
    }
   ],
   "source": [
    "portfolio_returns = portfolio_value.pct_change().dropna()\n",
    "portfolio_returns"
   ]
  },
  {
   "cell_type": "code",
   "execution_count": 22,
   "id": "e6191748-55d1-42ad-8161-58b3f8d3f195",
   "metadata": {},
   "outputs": [
    {
     "data": {
      "text/plain": [
       "Exchange Date\n",
       "2005-02-28         NaN\n",
       "2005-03-31         NaN\n",
       "2005-04-30         NaN\n",
       "2005-05-31         NaN\n",
       "2005-06-30         NaN\n",
       "                ...   \n",
       "2024-08-31    0.103832\n",
       "2024-09-30    0.082659\n",
       "2024-10-31    0.088353\n",
       "2024-11-30    0.075587\n",
       "2024-12-31    0.073235\n",
       "Freq: M, Length: 239, dtype: float64"
      ]
     },
     "execution_count": 22,
     "metadata": {},
     "output_type": "execute_result"
    }
   ],
   "source": [
    "rolling_annual_volatility = portfolio_returns.rolling(window=12).std() * np.sqrt(12)\n",
    "rolling_annual_volatility"
   ]
  },
  {
   "cell_type": "code",
   "execution_count": 53,
   "id": "4d921794-764c-4cd4-a7bf-d8d130fb2e38",
   "metadata": {},
   "outputs": [
    {
     "name": "stdout",
     "output_type": "stream",
     "text": [
      "Average annualized monthly volatility: 0.09472933923902105\n",
      "Total return: 170.79527894231558%\n",
      "Average monthly return: 0.0045818942350443455\n",
      "Average yearly return: 0.056389700465308445\n",
      "Sharpe Ratio: 0.5952717597134924\n"
     ]
    }
   ],
   "source": [
    "print(f\"Average annualized monthly volatility: {rolling_annual_volatility.mean()}\")\n",
    "total_return = (portfolio_value.iloc[-1]-portfolio_value.iloc[0])/portfolio_value.iloc[0]\n",
    "print(f\"Total return: {total_return*100}%\")\n",
    "monthly_returns = portfolio_returns\n",
    "avg_monthly_return = monthly_returns.mean()\n",
    "print(f\"Average monthly return: {avg_monthly_return}\")\n",
    "print(f\"Average yearly return: {((1+avg_monthly_return)**12)-1}\")\n",
    "print(f\"Sharpe Ratio: {(((1+avg_monthly_return)**12)-1)/rolling_annual_volatility.mean()}\")"
   ]
  },
  {
   "cell_type": "code",
   "execution_count": 54,
   "id": "294dccd0-c315-47af-b145-ac41ec121705",
   "metadata": {},
   "outputs": [
    {
     "name": "stdout",
     "output_type": "stream",
     "text": [
      "Monthly 99% Value at Risk (VaR) is: -0.0592\n"
     ]
    }
   ],
   "source": [
    "# Calculate the monthly VaR for each month using the Historical Simulation method\n",
    "VaR_99 = portfolio_returns.quantile(1 - 0.99)\n",
    "\n",
    "# Print the Value at Risk\n",
    "print(f\"Monthly 99% Value at Risk (VaR) is: {VaR_99:.4f}\")"
   ]
  },
  {
   "cell_type": "code",
   "execution_count": null,
   "id": "993ab135-b22f-420e-bdad-5b970543dd2b",
   "metadata": {},
   "outputs": [],
   "source": []
  }
 ],
 "metadata": {
  "kernelspec": {
   "display_name": "Python 3 (ipykernel)",
   "language": "python",
   "name": "python3"
  },
  "language_info": {
   "codemirror_mode": {
    "name": "ipython",
    "version": 3
   },
   "file_extension": ".py",
   "mimetype": "text/x-python",
   "name": "python",
   "nbconvert_exporter": "python",
   "pygments_lexer": "ipython3",
   "version": "3.11.7"
  }
 },
 "nbformat": 4,
 "nbformat_minor": 5
}
