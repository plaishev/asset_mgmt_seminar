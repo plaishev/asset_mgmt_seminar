{
 "cells": [
  {
   "cell_type": "code",
   "execution_count": 23,
   "id": "5008acbd-b508-454c-abaf-202ca736cdfb",
   "metadata": {},
   "outputs": [],
   "source": [
    "# Import packages\n",
    "import numpy as np\n",
    "import pandas as pd\n",
    "import matplotlib.pyplot as plt\n"
   ]
  },
  {
   "cell_type": "code",
   "execution_count": 24,
   "id": "63589605-a9c7-428d-ba9d-93479a29fc26",
   "metadata": {},
   "outputs": [],
   "source": [
    "# Read data into pandas\n",
    "japan = pd.read_excel(\"./data/Price History_EWJ_Japan_Equity.xlsx\")\n",
    "t_bills_7_10 = pd.read_excel(\"./data/Price History_7-10_US_TBills.xlsx\")\n",
    "t_bills_20 = pd.read_excel(\"./data/Price History_20+_US_TBills.xlsx\")\n",
    "apac_x_japan = pd.read_excel(\"./data/Price History_EPP_APACxJapan_Equity.xlsx\")\n",
    "europe = pd.read_excel(\"./data/Price History_IEV_Europe_Equity.xlsx\")\n",
    "latam = pd.read_excel(\"./data/Price History_ILF_LatAm_Equity.xlsx\")\n",
    "us = pd.read_excel(\"./data/Price History_IVV_US_Equity.xlsx\")\n",
    "gold = pd.read_excel(\"./data/Price History_IAU_Gold_Trust.xlsx\")"
   ]
  },
  {
   "cell_type": "code",
   "execution_count": 25,
   "id": "18c1bd0b-4047-4479-8160-6417b48059a3",
   "metadata": {},
   "outputs": [],
   "source": [
    "def preprocess_and_rename(df, name):\n",
    "    df['Exchange Date'] = pd.to_datetime(df['Exchange Date'])\n",
    "    df.set_index('Exchange Date', inplace=True)\n",
    "    df.rename(columns={'%Chg':f'Return {name}'}, inplace=True)\n",
    "    return df[[f'Return {name}']]\n",
    "\n",
    "# Preprocess all datasets and rename columns\n",
    "japan = preprocess_and_rename(japan, 'Japan')\n",
    "t_bills_7_10 = preprocess_and_rename(t_bills_7_10, 'T-Bills_7_10')\n",
    "t_bills_20 = preprocess_and_rename(t_bills_20, 'T-Bills_20')\n",
    "apac_x_japan = preprocess_and_rename(apac_x_japan, 'APACxJapan')\n",
    "europe = preprocess_and_rename(europe, 'Europe')\n",
    "latam = preprocess_and_rename(latam, 'LatAm')\n",
    "us = preprocess_and_rename(us, 'US')\n",
    "gold = preprocess_and_rename(gold, 'Gold')"
   ]
  },
  {
   "cell_type": "code",
   "execution_count": 26,
   "id": "4fde3178-c36f-4ae9-80ec-55f48bc3b94d",
   "metadata": {},
   "outputs": [
    {
     "data": {
      "text/html": [
       "<div>\n",
       "<style scoped>\n",
       "    .dataframe tbody tr th:only-of-type {\n",
       "        vertical-align: middle;\n",
       "    }\n",
       "\n",
       "    .dataframe tbody tr th {\n",
       "        vertical-align: top;\n",
       "    }\n",
       "\n",
       "    .dataframe thead th {\n",
       "        text-align: right;\n",
       "    }\n",
       "</style>\n",
       "<table border=\"1\" class=\"dataframe\">\n",
       "  <thead>\n",
       "    <tr style=\"text-align: right;\">\n",
       "      <th></th>\n",
       "      <th>Return Gold</th>\n",
       "    </tr>\n",
       "    <tr>\n",
       "      <th>Exchange Date</th>\n",
       "      <th></th>\n",
       "    </tr>\n",
       "  </thead>\n",
       "  <tbody>\n",
       "    <tr>\n",
       "      <th>2024-12-13</th>\n",
       "      <td>-0.011667</td>\n",
       "    </tr>\n",
       "    <tr>\n",
       "      <th>2024-12-12</th>\n",
       "      <td>-0.014230</td>\n",
       "    </tr>\n",
       "    <tr>\n",
       "      <th>2024-12-11</th>\n",
       "      <td>0.009247</td>\n",
       "    </tr>\n",
       "    <tr>\n",
       "      <th>2024-12-10</th>\n",
       "      <td>0.013155</td>\n",
       "    </tr>\n",
       "    <tr>\n",
       "      <th>2024-12-09</th>\n",
       "      <td>0.009863</td>\n",
       "    </tr>\n",
       "    <tr>\n",
       "      <th>...</th>\n",
       "      <td>...</td>\n",
       "    </tr>\n",
       "    <tr>\n",
       "      <th>2005-02-02</th>\n",
       "      <td>0.002612</td>\n",
       "    </tr>\n",
       "    <tr>\n",
       "      <th>2005-02-01</th>\n",
       "      <td>-0.003549</td>\n",
       "    </tr>\n",
       "    <tr>\n",
       "      <th>2005-01-31</th>\n",
       "      <td>-0.009838</td>\n",
       "    </tr>\n",
       "    <tr>\n",
       "      <th>2005-01-28</th>\n",
       "      <td>NaN</td>\n",
       "    </tr>\n",
       "    <tr>\n",
       "      <th>2005-01-27</th>\n",
       "      <td>NaN</td>\n",
       "    </tr>\n",
       "  </tbody>\n",
       "</table>\n",
       "<p>5005 rows × 1 columns</p>\n",
       "</div>"
      ],
      "text/plain": [
       "               Return Gold\n",
       "Exchange Date             \n",
       "2024-12-13       -0.011667\n",
       "2024-12-12       -0.014230\n",
       "2024-12-11        0.009247\n",
       "2024-12-10        0.013155\n",
       "2024-12-09        0.009863\n",
       "...                    ...\n",
       "2005-02-02        0.002612\n",
       "2005-02-01       -0.003549\n",
       "2005-01-31       -0.009838\n",
       "2005-01-28             NaN\n",
       "2005-01-27             NaN\n",
       "\n",
       "[5005 rows x 1 columns]"
      ]
     },
     "execution_count": 26,
     "metadata": {},
     "output_type": "execute_result"
    }
   ],
   "source": [
    "gold"
   ]
  },
  {
   "cell_type": "code",
   "execution_count": 36,
   "id": "ba8b1dc4-16a6-4b69-8a4a-439f149533eb",
   "metadata": {},
   "outputs": [
    {
     "ename": "KeyError",
     "evalue": "'Gold'",
     "output_type": "error",
     "traceback": [
      "\u001b[0;31m---------------------------------------------------------------------------\u001b[0m",
      "\u001b[0;31mKeyError\u001b[0m                                  Traceback (most recent call last)",
      "File \u001b[0;32m/opt/anaconda3/lib/python3.11/site-packages/pandas/core/indexes/base.py:3791\u001b[0m, in \u001b[0;36mIndex.get_loc\u001b[0;34m(self, key)\u001b[0m\n\u001b[1;32m   3790\u001b[0m \u001b[38;5;28;01mtry\u001b[39;00m:\n\u001b[0;32m-> 3791\u001b[0m     \u001b[38;5;28;01mreturn\u001b[39;00m \u001b[38;5;28mself\u001b[39m\u001b[38;5;241m.\u001b[39m_engine\u001b[38;5;241m.\u001b[39mget_loc(casted_key)\n\u001b[1;32m   3792\u001b[0m \u001b[38;5;28;01mexcept\u001b[39;00m \u001b[38;5;167;01mKeyError\u001b[39;00m \u001b[38;5;28;01mas\u001b[39;00m err:\n",
      "File \u001b[0;32mindex.pyx:152\u001b[0m, in \u001b[0;36mpandas._libs.index.IndexEngine.get_loc\u001b[0;34m()\u001b[0m\n",
      "File \u001b[0;32mindex.pyx:181\u001b[0m, in \u001b[0;36mpandas._libs.index.IndexEngine.get_loc\u001b[0;34m()\u001b[0m\n",
      "File \u001b[0;32mpandas/_libs/hashtable_class_helper.pxi:7080\u001b[0m, in \u001b[0;36mpandas._libs.hashtable.PyObjectHashTable.get_item\u001b[0;34m()\u001b[0m\n",
      "File \u001b[0;32mpandas/_libs/hashtable_class_helper.pxi:7088\u001b[0m, in \u001b[0;36mpandas._libs.hashtable.PyObjectHashTable.get_item\u001b[0;34m()\u001b[0m\n",
      "\u001b[0;31mKeyError\u001b[0m: 'Gold'",
      "\nThe above exception was the direct cause of the following exception:\n",
      "\u001b[0;31mKeyError\u001b[0m                                  Traceback (most recent call last)",
      "Cell \u001b[0;32mIn[36], line 5\u001b[0m\n\u001b[1;32m      1\u001b[0m \u001b[38;5;66;03m# Plot price data to check data read\u001b[39;00m\n\u001b[1;32m      2\u001b[0m \n\u001b[1;32m      3\u001b[0m \u001b[38;5;66;03m# Create the plot\u001b[39;00m\n\u001b[1;32m      4\u001b[0m plt\u001b[38;5;241m.\u001b[39mfigure(figsize\u001b[38;5;241m=\u001b[39m(\u001b[38;5;241m10\u001b[39m, \u001b[38;5;241m6\u001b[39m))\n\u001b[0;32m----> 5\u001b[0m plt\u001b[38;5;241m.\u001b[39mplot(gold[\u001b[38;5;124m'\u001b[39m\u001b[38;5;124mGold\u001b[39m\u001b[38;5;124m'\u001b[39m], marker\u001b[38;5;241m=\u001b[39m\u001b[38;5;124m'\u001b[39m\u001b[38;5;124m'\u001b[39m, label\u001b[38;5;241m=\u001b[39m\u001b[38;5;124m'\u001b[39m\u001b[38;5;124mGold\u001b[39m\u001b[38;5;124m'\u001b[39m)\n\u001b[1;32m      6\u001b[0m plt\u001b[38;5;241m.\u001b[39mplot(us[\u001b[38;5;124m'\u001b[39m\u001b[38;5;124mUS\u001b[39m\u001b[38;5;124m'\u001b[39m], marker\u001b[38;5;241m=\u001b[39m\u001b[38;5;124m'\u001b[39m\u001b[38;5;124m'\u001b[39m, label\u001b[38;5;241m=\u001b[39m\u001b[38;5;124m'\u001b[39m\u001b[38;5;124mUSA\u001b[39m\u001b[38;5;124m'\u001b[39m)\n\u001b[1;32m      7\u001b[0m plt\u001b[38;5;241m.\u001b[39mplot(europe[\u001b[38;5;124m'\u001b[39m\u001b[38;5;124mEurope\u001b[39m\u001b[38;5;124m'\u001b[39m], marker\u001b[38;5;241m=\u001b[39m\u001b[38;5;124m'\u001b[39m\u001b[38;5;124m'\u001b[39m, label\u001b[38;5;241m=\u001b[39m\u001b[38;5;124m'\u001b[39m\u001b[38;5;124mEurope\u001b[39m\u001b[38;5;124m'\u001b[39m)\n",
      "File \u001b[0;32m/opt/anaconda3/lib/python3.11/site-packages/pandas/core/frame.py:3893\u001b[0m, in \u001b[0;36mDataFrame.__getitem__\u001b[0;34m(self, key)\u001b[0m\n\u001b[1;32m   3891\u001b[0m \u001b[38;5;28;01mif\u001b[39;00m \u001b[38;5;28mself\u001b[39m\u001b[38;5;241m.\u001b[39mcolumns\u001b[38;5;241m.\u001b[39mnlevels \u001b[38;5;241m>\u001b[39m \u001b[38;5;241m1\u001b[39m:\n\u001b[1;32m   3892\u001b[0m     \u001b[38;5;28;01mreturn\u001b[39;00m \u001b[38;5;28mself\u001b[39m\u001b[38;5;241m.\u001b[39m_getitem_multilevel(key)\n\u001b[0;32m-> 3893\u001b[0m indexer \u001b[38;5;241m=\u001b[39m \u001b[38;5;28mself\u001b[39m\u001b[38;5;241m.\u001b[39mcolumns\u001b[38;5;241m.\u001b[39mget_loc(key)\n\u001b[1;32m   3894\u001b[0m \u001b[38;5;28;01mif\u001b[39;00m is_integer(indexer):\n\u001b[1;32m   3895\u001b[0m     indexer \u001b[38;5;241m=\u001b[39m [indexer]\n",
      "File \u001b[0;32m/opt/anaconda3/lib/python3.11/site-packages/pandas/core/indexes/base.py:3798\u001b[0m, in \u001b[0;36mIndex.get_loc\u001b[0;34m(self, key)\u001b[0m\n\u001b[1;32m   3793\u001b[0m     \u001b[38;5;28;01mif\u001b[39;00m \u001b[38;5;28misinstance\u001b[39m(casted_key, \u001b[38;5;28mslice\u001b[39m) \u001b[38;5;129;01mor\u001b[39;00m (\n\u001b[1;32m   3794\u001b[0m         \u001b[38;5;28misinstance\u001b[39m(casted_key, abc\u001b[38;5;241m.\u001b[39mIterable)\n\u001b[1;32m   3795\u001b[0m         \u001b[38;5;129;01mand\u001b[39;00m \u001b[38;5;28many\u001b[39m(\u001b[38;5;28misinstance\u001b[39m(x, \u001b[38;5;28mslice\u001b[39m) \u001b[38;5;28;01mfor\u001b[39;00m x \u001b[38;5;129;01min\u001b[39;00m casted_key)\n\u001b[1;32m   3796\u001b[0m     ):\n\u001b[1;32m   3797\u001b[0m         \u001b[38;5;28;01mraise\u001b[39;00m InvalidIndexError(key)\n\u001b[0;32m-> 3798\u001b[0m     \u001b[38;5;28;01mraise\u001b[39;00m \u001b[38;5;167;01mKeyError\u001b[39;00m(key) \u001b[38;5;28;01mfrom\u001b[39;00m \u001b[38;5;21;01merr\u001b[39;00m\n\u001b[1;32m   3799\u001b[0m \u001b[38;5;28;01mexcept\u001b[39;00m \u001b[38;5;167;01mTypeError\u001b[39;00m:\n\u001b[1;32m   3800\u001b[0m     \u001b[38;5;66;03m# If we have a listlike key, _check_indexing_error will raise\u001b[39;00m\n\u001b[1;32m   3801\u001b[0m     \u001b[38;5;66;03m#  InvalidIndexError. Otherwise we fall through and re-raise\u001b[39;00m\n\u001b[1;32m   3802\u001b[0m     \u001b[38;5;66;03m#  the TypeError.\u001b[39;00m\n\u001b[1;32m   3803\u001b[0m     \u001b[38;5;28mself\u001b[39m\u001b[38;5;241m.\u001b[39m_check_indexing_error(key)\n",
      "\u001b[0;31mKeyError\u001b[0m: 'Gold'"
     ]
    },
    {
     "data": {
      "text/plain": [
       "<Figure size 1000x600 with 0 Axes>"
      ]
     },
     "metadata": {},
     "output_type": "display_data"
    }
   ],
   "source": [
    "# Plot price data to check data read\n",
    "\n",
    "# Create the plot\n",
    "plt.figure(figsize=(10, 6))\n",
    "plt.plot(gold['Gold'], marker='', label='Gold')\n",
    "plt.plot(us['US'], marker='', label='USA')\n",
    "plt.plot(europe['Europe'], marker='', label='Europe')\n",
    "plt.plot(apac_x_japan['APACxJapan'], marker='', label='APAC ex. Japan')\n",
    "plt.plot(japan['Japan'], marker='', label='Japan')\n",
    "plt.plot(latam['LatAm'], marker='', label='LatAm')\n",
    "plt.plot(us['US'], marker='', label='USA')\n",
    "\n",
    "\n",
    "\n",
    "# Customize the plot\n",
    "plt.title(\"Close Price by Exchange Date\", fontsize=16)\n",
    "plt.xlabel(\"Exchange Date\", fontsize=12)\n",
    "plt.ylabel(\"Close Price (USD)\", fontsize=12)\n",
    "plt.grid(True)\n",
    "plt.legend()\n",
    "plt.xticks(rotation=45)  # Rotate date labels for better readability\n",
    "\n",
    "# Show the plot\n",
    "plt.tight_layout()  # Adjust layout for better appearance\n",
    "plt.show()"
   ]
  },
  {
   "cell_type": "code",
   "execution_count": 57,
   "id": "07b4f753-3e99-4742-acba-032da04b3753",
   "metadata": {},
   "outputs": [],
   "source": [
    "# Merge all datasets on 'Exchange Date'\n",
    "returns = japan.join([t_bills_7_10, t_bills_20, apac_x_japan, europe, latam, us, gold], how='inner')\n",
    "\n",
    "# Rename the columns for clarity\n",
    "returns.columns = ['Japan', 'T-Bills_7_10', 'T-Bills_20', \n",
    "                'APACxJapan','Europe','LatAm', 'US', 'Gold']\n",
    "returns = returns.dropna()\n",
    "returns = returns.sort_values(by='Exchange Date', ascending=True)"
   ]
  },
  {
   "cell_type": "code",
   "execution_count": 58,
   "id": "4fc35f43-59b1-44d8-9355-58f6384abbd4",
   "metadata": {},
   "outputs": [
    {
     "data": {
      "text/html": [
       "<div>\n",
       "<style scoped>\n",
       "    .dataframe tbody tr th:only-of-type {\n",
       "        vertical-align: middle;\n",
       "    }\n",
       "\n",
       "    .dataframe tbody tr th {\n",
       "        vertical-align: top;\n",
       "    }\n",
       "\n",
       "    .dataframe thead th {\n",
       "        text-align: right;\n",
       "    }\n",
       "</style>\n",
       "<table border=\"1\" class=\"dataframe\">\n",
       "  <thead>\n",
       "    <tr style=\"text-align: right;\">\n",
       "      <th></th>\n",
       "      <th>Japan</th>\n",
       "      <th>T-Bills_7_10</th>\n",
       "      <th>T-Bills_20</th>\n",
       "      <th>APACxJapan</th>\n",
       "      <th>Europe</th>\n",
       "      <th>LatAm</th>\n",
       "      <th>US</th>\n",
       "      <th>Gold</th>\n",
       "    </tr>\n",
       "    <tr>\n",
       "      <th>Exchange Date</th>\n",
       "      <th></th>\n",
       "      <th></th>\n",
       "      <th></th>\n",
       "      <th></th>\n",
       "      <th></th>\n",
       "      <th></th>\n",
       "      <th></th>\n",
       "      <th></th>\n",
       "    </tr>\n",
       "  </thead>\n",
       "  <tbody>\n",
       "    <tr>\n",
       "      <th>2005-01-31</th>\n",
       "      <td>0.000000</td>\n",
       "      <td>0.000350</td>\n",
       "      <td>0.002843</td>\n",
       "      <td>0.002793</td>\n",
       "      <td>0.004750</td>\n",
       "      <td>0.017648</td>\n",
       "      <td>0.008956</td>\n",
       "      <td>-0.009838</td>\n",
       "    </tr>\n",
       "    <tr>\n",
       "      <th>2005-02-01</th>\n",
       "      <td>0.005666</td>\n",
       "      <td>-0.003734</td>\n",
       "      <td>-0.005343</td>\n",
       "      <td>0.008802</td>\n",
       "      <td>0.010265</td>\n",
       "      <td>0.013544</td>\n",
       "      <td>0.006425</td>\n",
       "      <td>-0.003549</td>\n",
       "    </tr>\n",
       "    <tr>\n",
       "      <th>2005-02-02</th>\n",
       "      <td>0.003756</td>\n",
       "      <td>0.000117</td>\n",
       "      <td>0.002302</td>\n",
       "      <td>0.000884</td>\n",
       "      <td>-0.000668</td>\n",
       "      <td>0.009117</td>\n",
       "      <td>0.003192</td>\n",
       "      <td>0.002612</td>\n",
       "    </tr>\n",
       "    <tr>\n",
       "      <th>2005-02-03</th>\n",
       "      <td>-0.014967</td>\n",
       "      <td>-0.001757</td>\n",
       "      <td>-0.000875</td>\n",
       "      <td>-0.008056</td>\n",
       "      <td>-0.002676</td>\n",
       "      <td>0.010767</td>\n",
       "      <td>-0.001758</td>\n",
       "      <td>-0.012077</td>\n",
       "    </tr>\n",
       "    <tr>\n",
       "      <th>2005-02-04</th>\n",
       "      <td>0.004748</td>\n",
       "      <td>0.005280</td>\n",
       "      <td>0.014231</td>\n",
       "      <td>0.007231</td>\n",
       "      <td>0.003622</td>\n",
       "      <td>0.017877</td>\n",
       "      <td>0.009646</td>\n",
       "      <td>-0.005273</td>\n",
       "    </tr>\n",
       "    <tr>\n",
       "      <th>...</th>\n",
       "      <td>...</td>\n",
       "      <td>...</td>\n",
       "      <td>...</td>\n",
       "      <td>...</td>\n",
       "      <td>...</td>\n",
       "      <td>...</td>\n",
       "      <td>...</td>\n",
       "      <td>...</td>\n",
       "    </tr>\n",
       "    <tr>\n",
       "      <th>2024-12-09</th>\n",
       "      <td>-0.008723</td>\n",
       "      <td>-0.003464</td>\n",
       "      <td>-0.009217</td>\n",
       "      <td>0.018423</td>\n",
       "      <td>-0.001273</td>\n",
       "      <td>0.012993</td>\n",
       "      <td>-0.005157</td>\n",
       "      <td>0.009863</td>\n",
       "    </tr>\n",
       "    <tr>\n",
       "      <th>2024-12-10</th>\n",
       "      <td>-0.005393</td>\n",
       "      <td>-0.001791</td>\n",
       "      <td>-0.004705</td>\n",
       "      <td>-0.016197</td>\n",
       "      <td>-0.008379</td>\n",
       "      <td>0.000855</td>\n",
       "      <td>-0.002896</td>\n",
       "      <td>0.013155</td>\n",
       "    </tr>\n",
       "    <tr>\n",
       "      <th>2024-12-11</th>\n",
       "      <td>0.014127</td>\n",
       "      <td>-0.002955</td>\n",
       "      <td>-0.009454</td>\n",
       "      <td>0.000000</td>\n",
       "      <td>0.004041</td>\n",
       "      <td>0.015805</td>\n",
       "      <td>0.007707</td>\n",
       "      <td>0.009247</td>\n",
       "    </tr>\n",
       "    <tr>\n",
       "      <th>2024-12-12</th>\n",
       "      <td>-0.009849</td>\n",
       "      <td>-0.003810</td>\n",
       "      <td>-0.012148</td>\n",
       "      <td>-0.012187</td>\n",
       "      <td>-0.008050</td>\n",
       "      <td>-0.018503</td>\n",
       "      <td>-0.005306</td>\n",
       "      <td>-0.014230</td>\n",
       "    </tr>\n",
       "    <tr>\n",
       "      <th>2024-12-13</th>\n",
       "      <td>-0.011795</td>\n",
       "      <td>-0.004674</td>\n",
       "      <td>-0.010211</td>\n",
       "      <td>-0.003680</td>\n",
       "      <td>0.000738</td>\n",
       "      <td>-0.005998</td>\n",
       "      <td>-0.000181</td>\n",
       "      <td>-0.011667</td>\n",
       "    </tr>\n",
       "  </tbody>\n",
       "</table>\n",
       "<p>5003 rows × 8 columns</p>\n",
       "</div>"
      ],
      "text/plain": [
       "                  Japan  T-Bills_7_10  T-Bills_20  APACxJapan    Europe  \\\n",
       "Exchange Date                                                             \n",
       "2005-01-31     0.000000      0.000350    0.002843    0.002793  0.004750   \n",
       "2005-02-01     0.005666     -0.003734   -0.005343    0.008802  0.010265   \n",
       "2005-02-02     0.003756      0.000117    0.002302    0.000884 -0.000668   \n",
       "2005-02-03    -0.014967     -0.001757   -0.000875   -0.008056 -0.002676   \n",
       "2005-02-04     0.004748      0.005280    0.014231    0.007231  0.003622   \n",
       "...                 ...           ...         ...         ...       ...   \n",
       "2024-12-09    -0.008723     -0.003464   -0.009217    0.018423 -0.001273   \n",
       "2024-12-10    -0.005393     -0.001791   -0.004705   -0.016197 -0.008379   \n",
       "2024-12-11     0.014127     -0.002955   -0.009454    0.000000  0.004041   \n",
       "2024-12-12    -0.009849     -0.003810   -0.012148   -0.012187 -0.008050   \n",
       "2024-12-13    -0.011795     -0.004674   -0.010211   -0.003680  0.000738   \n",
       "\n",
       "                  LatAm        US      Gold  \n",
       "Exchange Date                                \n",
       "2005-01-31     0.017648  0.008956 -0.009838  \n",
       "2005-02-01     0.013544  0.006425 -0.003549  \n",
       "2005-02-02     0.009117  0.003192  0.002612  \n",
       "2005-02-03     0.010767 -0.001758 -0.012077  \n",
       "2005-02-04     0.017877  0.009646 -0.005273  \n",
       "...                 ...       ...       ...  \n",
       "2024-12-09     0.012993 -0.005157  0.009863  \n",
       "2024-12-10     0.000855 -0.002896  0.013155  \n",
       "2024-12-11     0.015805  0.007707  0.009247  \n",
       "2024-12-12    -0.018503 -0.005306 -0.014230  \n",
       "2024-12-13    -0.005998 -0.000181 -0.011667  \n",
       "\n",
       "[5003 rows x 8 columns]"
      ]
     },
     "execution_count": 58,
     "metadata": {},
     "output_type": "execute_result"
    }
   ],
   "source": [
    "returns"
   ]
  },
  {
   "cell_type": "code",
   "execution_count": 59,
   "id": "9aaea36d-afdf-4bce-8183-5bbc257e0b1a",
   "metadata": {},
   "outputs": [
    {
     "name": "stdout",
     "output_type": "stream",
     "text": [
      "Annualized Return: 0.07005696559353902\n",
      "Annualized Volatility: 0.1573748219830579\n",
      "Sharpe Ratio: 0.4451599354379633\n"
     ]
    }
   ],
   "source": [
    "weights = {\n",
    "    'Japan': 0.12,\n",
    "    'T-Bills_7_10': 0.0,\n",
    "    'T-Bills_20': 0.0,\n",
    "    'APACxJapan': 0.12,\n",
    "    'Europe': 0.12,\n",
    "    'LatAm': 0.12,\n",
    "    'US': 0.12,\n",
    "    'Gold': 0.4,\n",
    "}\n",
    "\n",
    "# Calculate the portfolio return for each day\n",
    "portfolio_return = (returns[list(weights.keys())] * list(weights.values())).sum(axis=1)\n",
    "\n",
    "# Calculate cumulative return\n",
    "cumulative_return = (1 + portfolio_return).cumprod() - 1\n",
    "\n",
    "# Calculate annualized return\n",
    "annualized_return = (1 + cumulative_return.iloc[-1]) ** (252 / len(portfolio_return)) - 1\n",
    "\n",
    "# Calculate annualized volatility (standard deviation of returns)\n",
    "annualized_volatility = portfolio_return.std() * (252 ** 0.5)\n",
    "\n",
    "# Sharpe ratio (assuming risk-free rate of 0%)\n",
    "sharpe_ratio = annualized_return / annualized_volatility\n",
    "\n",
    "# Print results\n",
    "print(f\"Annualized Return: {annualized_return}\")\n",
    "print(f\"Annualized Volatility: {annualized_volatility}\")\n",
    "print(f\"Sharpe Ratio: {sharpe_ratio}\")"
   ]
  },
  {
   "cell_type": "code",
   "execution_count": 60,
   "id": "174451d0-5b9b-4c39-8128-32c04eff1cc2",
   "metadata": {},
   "outputs": [
    {
     "data": {
      "text/plain": [
       "Exchange Date\n",
       "2005-01-31    0.000162\n",
       "2005-02-01    0.003945\n",
       "2005-02-02    0.002998\n",
       "2005-02-03   -0.006833\n",
       "2005-02-04    0.003066\n",
       "                ...   \n",
       "2024-12-09    0.005897\n",
       "2024-12-10    0.001421\n",
       "2024-12-11    0.008700\n",
       "2024-12-12   -0.012160\n",
       "2024-12-13   -0.007177\n",
       "Length: 5003, dtype: float64"
      ]
     },
     "execution_count": 60,
     "metadata": {},
     "output_type": "execute_result"
    }
   ],
   "source": [
    "portfolio_return"
   ]
  },
  {
   "cell_type": "code",
   "execution_count": 61,
   "id": "cc037ac5-fbb4-4ba2-b75b-f8b4d87d3b6b",
   "metadata": {},
   "outputs": [
    {
     "data": {
      "text/plain": [
       "Exchange Date\n",
       "2005-01-31    0.000162\n",
       "2005-02-01    0.004108\n",
       "2005-02-02    0.007118\n",
       "2005-02-03    0.000236\n",
       "2005-02-04    0.003302\n",
       "                ...   \n",
       "2024-12-09    2.871531\n",
       "2024-12-10    2.877032\n",
       "2024-12-11    2.910763\n",
       "2024-12-12    2.863210\n",
       "2024-12-13    2.835485\n",
       "Length: 5003, dtype: float64"
      ]
     },
     "execution_count": 61,
     "metadata": {},
     "output_type": "execute_result"
    }
   ],
   "source": [
    "cumulative_return"
   ]
  },
  {
   "cell_type": "code",
   "execution_count": 62,
   "id": "84766e3a-c776-4e04-8092-15497ef48b8a",
   "metadata": {},
   "outputs": [
    {
     "data": {
      "image/png": "[encoded data removed]",
      "text/plain": [
       "<Figure size 1000x600 with 1 Axes>"
      ]
     },
     "metadata": {},
     "output_type": "display_data"
    },
    {
     "name": "stdout",
     "output_type": "stream",
     "text": [
      "Final Portfolio Value: $3,835,485.00\n"
     ]
    }
   ],
   "source": [
    "# Initial investment\n",
    "initial_investment = 1000000  # 1 million\n",
    "\n",
    "# Calculate portfolio value over time\n",
    "portfolio_value = initial_investment * (1 + cumulative_return)\n",
    "\n",
    "# Plot the portfolio value\n",
    "plt.figure(figsize=(10, 6))\n",
    "plt.plot(portfolio_value, label='Portfolio Value', color='blue')\n",
    "plt.title('Portfolio Value Over Time')\n",
    "plt.xlabel('Date')\n",
    "plt.ylabel('Portfolio Value ($)')\n",
    "plt.legend()\n",
    "plt.grid(True)\n",
    "plt.xticks(rotation=45)\n",
    "plt.tight_layout()\n",
    "plt.show()\n",
    "\n",
    "print(f\"Final Portfolio Value: ${portfolio_value.iloc[-1]:,.2f}\")"
   ]
  },
  {
   "cell_type": "code",
   "execution_count": 63,
   "id": "9c11f155-0388-428f-a8c5-7d32cbe11f6a",
   "metadata": {},
   "outputs": [
    {
     "data": {
      "text/plain": [
       "Exchange Date\n",
       "2005-01-31    1.000162e+06\n",
       "2005-02-01    1.004108e+06\n",
       "2005-02-02    1.007118e+06\n",
       "2005-02-03    1.000236e+06\n",
       "2005-02-04    1.003302e+06\n",
       "                  ...     \n",
       "2024-12-09    3.871531e+06\n",
       "2024-12-10    3.877032e+06\n",
       "2024-12-11    3.910763e+06\n",
       "2024-12-12    3.863210e+06\n",
       "2024-12-13    3.835485e+06\n",
       "Length: 5003, dtype: float64"
      ]
     },
     "execution_count": 63,
     "metadata": {},
     "output_type": "execute_result"
    }
   ],
   "source": [
    "portfolio_value"
   ]
  },
  {
   "cell_type": "code",
   "execution_count": 82,
   "id": "3e0c493b-ed20-4157-8407-99884459e5dc",
   "metadata": {},
   "outputs": [
    {
     "data": {
      "image/png": "[encoded data removed]",
      "text/plain": [
       "<Figure size 1000x600 with 1 Axes>"
      ]
     },
     "metadata": {},
     "output_type": "display_data"
    },
    {
     "name": "stdout",
     "output_type": "stream",
     "text": [
      "Final Portfolio Value: $3,834,862.75\n"
     ]
    }
   ],
   "source": [
    "equity_columns = ['Japan', 'APACxJapan', 'Europe', 'LatAm', 'US']\n",
    "gold_columns = ['Gold']\n",
    "\n",
    "# Weights for equities and bonds\n",
    "equity_weight = 0.60\n",
    "gold_weight = 0.40\n",
    "\n",
    "# Resample the returns dataframe to monthly by calculating the cumulative returns for each month\n",
    "# Resample to monthly frequency, taking the cumulative product of daily returns for each month\n",
    "monthly_returns = returns\n",
    "print\n",
    "# .resample('M').apply(lambda x: (1 + x).prod() - 1)\n",
    "\n",
    "\n",
    "# Calculate monthly equity and bond returns\n",
    "monthly_equity_returns = monthly_returns[equity_columns].mean(axis=1)  # Average of equity returns for the month\n",
    "monthly_gold_returns = monthly_returns[gold_columns].mean(axis=1)  # Average of gold returns for the month\n",
    "\n",
    "# Initialize the portfolio with 1 million\n",
    "initial_investment = 1_000_000\n",
    "portfolio_value = pd.Series(index=monthly_returns.index)\n",
    "\n",
    "# Set the initial portfolio value to 1 million\n",
    "portfolio_value.iloc[0] = initial_investment\n",
    "\n",
    "# Portfolio rebalancing loop for monthly rebalancing\n",
    "for i in range(1, len(monthly_returns)):\n",
    "    # Calculate the portfolio return for the current month (60% equity, 40% gold)\n",
    "    portfolio_return = (equity_weight * monthly_equity_returns.iloc[i]) + (gold_weight * monthly_gold_returns.iloc[i])\n",
    "    \n",
    "    # Get the portfolio value at the previous month\n",
    "    prev_value = portfolio_value.iloc[i - 1]\n",
    "    \n",
    "    # Calculate the new portfolio value after returns for the month\n",
    "    new_value = prev_value * (1 + portfolio_return)\n",
    "    \n",
    "    # Rebalance the portfolio to 60/40 (equity/bond) at the end of the month\n",
    "    # We split the new value into equities and bonds\n",
    "    equity_value = new_value * equity_weight\n",
    "    gold_value = new_value * gold_weight\n",
    "    \n",
    "    # Set the new portfolio value for the current month\n",
    "    portfolio_value.iloc[i] = equity_value + gold_value\n",
    "\n",
    "# Plot the portfolio value with monthly rebalancing\n",
    "plt.figure(figsize=(10, 6))\n",
    "plt.plot(portfolio_value, label='Portfolio Value (60% Equities, 40% Gold)', color='blue')\n",
    "plt.title('Portfolio Value with Monthly Rebalancing (60/40 Allocation)')\n",
    "plt.xlabel('Date')\n",
    "plt.ylabel('Portfolio Value ($)')\n",
    "plt.legend()\n",
    "plt.grid(True)\n",
    "plt.xticks(rotation=45)\n",
    "plt.tight_layout()\n",
    "plt.show()\n",
    "\n",
    "# Print the final portfolio value\n",
    "print(f\"Final Portfolio Value: ${portfolio_value.iloc[-1]:,.2f}\")"
   ]
  },
  {
   "cell_type": "code",
   "execution_count": 65,
   "id": "55c143ce-3a80-4133-a356-d86143dcaa38",
   "metadata": {},
   "outputs": [
    {
     "data": {
      "text/plain": [
       "Exchange Date\n",
       "2005-02-28    0.043590\n",
       "2005-03-31   -0.030579\n",
       "2005-04-30   -0.002414\n",
       "2005-05-31   -0.005028\n",
       "2005-06-30    0.030955\n",
       "                ...   \n",
       "2024-08-31    0.028255\n",
       "2024-09-30    0.030488\n",
       "2024-10-31   -0.009574\n",
       "2024-11-30   -0.007270\n",
       "2024-12-31   -0.005182\n",
       "Freq: M, Length: 239, dtype: float64"
      ]
     },
     "execution_count": 65,
     "metadata": {},
     "output_type": "execute_result"
    }
   ],
   "source": [
    "portfolio_returns = portfolio_value.pct_change().dropna()\n",
    "portfolio_returns"
   ]
  },
  {
   "cell_type": "code",
   "execution_count": 66,
   "id": "e6191748-55d1-42ad-8161-58b3f8d3f195",
   "metadata": {},
   "outputs": [
    {
     "data": {
      "text/plain": [
       "Exchange Date\n",
       "2005-02-28         NaN\n",
       "2005-03-31         NaN\n",
       "2005-04-30         NaN\n",
       "2005-05-31         NaN\n",
       "2005-06-30         NaN\n",
       "                ...   \n",
       "2024-08-31    0.102720\n",
       "2024-09-30    0.083802\n",
       "2024-10-31    0.089162\n",
       "2024-11-30    0.079113\n",
       "2024-12-31    0.078884\n",
       "Freq: M, Length: 239, dtype: float64"
      ]
     },
     "execution_count": 66,
     "metadata": {},
     "output_type": "execute_result"
    }
   ],
   "source": [
    "rolling_annual_volatility = portfolio_returns.rolling(window=12).std() * np.sqrt(12)\n",
    "rolling_annual_volatility"
   ]
  },
  {
   "cell_type": "code",
   "execution_count": 91,
   "id": "4d921794-764c-4cd4-a7bf-d8d130fb2e38",
   "metadata": {},
   "outputs": [
    {
     "name": "stdout",
     "output_type": "stream",
     "text": [
      "Average annualized monthly volatility: 0.1305440030296859\n",
      "Average annualized monthly volatility: 0.1305440030296859\n",
      "Total return: 259.2281144442023%\n",
      "Average monthly return: 0.006147218594265023\n",
      "Average yearly return: 0.07631246897883703\n",
      "Sharpe Ratio: 0.5845727663298593\n"
     ]
    }
   ],
   "source": [
    "print(f\"Average annualized monthly volatility: {rolling_annual_volatility.mean()}\")\n",
    "print(f\"Average annualized monthly volatility: {rolling_annual_volatility.mean()}\")\n",
    "total_return = (portfolio_value.iloc[-1]-portfolio_value.iloc[0])/portfolio_value.iloc[0]\n",
    "print(f\"Total return: {total_return*100}%\")\n",
    "monthly_returns = portfolio_returns\n",
    "avg_monthly_return = monthly_returns.mean()\n",
    "print(f\"Average monthly return: {avg_monthly_return}\")\n",
    "print(f\"Average yearly return: {((1+avg_monthly_return)**12)-1}\")\n",
    "print(f\"Sharpe Ratio: {(((1+avg_monthly_return)**12)-1)/rolling_annual_volatility.mean()}\")"
   ]
  },
  {
   "cell_type": "code",
   "execution_count": 68,
   "id": "294dccd0-c315-47af-b145-ac41ec121705",
   "metadata": {},
   "outputs": [
    {
     "name": "stdout",
     "output_type": "stream",
     "text": [
      "Monthly 99% Value at Risk (VaR) is: -0.0989\n"
     ]
    }
   ],
   "source": [
    "# Calculate the monthly VaR for each month using the Historical Simulation method\n",
    "VaR_99 = portfolio_returns.quantile(1 - 0.99)\n",
    "\n",
    "# Print the Value at Risk\n",
    "print(f\"Monthly 99% Value at Risk (VaR) is: {VaR_99:.4f}\")"
   ]
  },
  {
   "cell_type": "code",
   "execution_count": null,
   "id": "993ab135-b22f-420e-bdad-5b970543dd2b",
   "metadata": {},
   "outputs": [],
   "source": []
  }
 ],
 "metadata": {
  "kernelspec": {
   "display_name": "Python 3 (ipykernel)",
   "language": "python",
   "name": "python3"
  },
  "language_info": {
   "codemirror_mode": {
    "name": "ipython",
    "version": 3
   },
   "file_extension": ".py",
   "mimetype": "text/x-python",
   "name": "python",
   "nbconvert_exporter": "python",
   "pygments_lexer": "ipython3",
   "version": "3.11.7"
  }
 },
 "nbformat": 4,
 "nbformat_minor": 5
}
